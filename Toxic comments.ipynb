{
 "cells": [
  {
   "cell_type": "code",
   "execution_count": 1,
   "metadata": {},
   "outputs": [],
   "source": [
    "import pandas as pd\n",
    "import numpy as np\n",
    "import matplotlib.pyplot as plt\n",
    "%matplotlib inline"
   ]
  },
  {
   "cell_type": "code",
   "execution_count": 2,
   "metadata": {},
   "outputs": [],
   "source": [
    "train_full = pd.read_csv('train.csv')\n",
    "test = pd.read_csv('test.csv')"
   ]
  },
  {
   "cell_type": "code",
   "execution_count": 3,
   "metadata": {},
   "outputs": [],
   "source": [
    "train_x = train_full.iloc[:, :2]\n",
    "train_y = train_full.iloc[:, 2:].join(train_full['id'])"
   ]
  },
  {
   "cell_type": "code",
   "execution_count": 6,
   "metadata": {},
   "outputs": [
    {
     "data": {
      "image/png": "[encoded data removed]",
      "text/plain": [
       "<matplotlib.figure.Figure at 0x15400ff2780>"
      ]
     },
     "metadata": {},
     "output_type": "display_data"
    }
   ],
   "source": [
    "# plot occurance \n",
    "## Note some comments have multiple labels\n",
    "occur_data= train_y.iloc[:, :6].sum(axis = 0)\n",
    "occur_data = occur_data.append(pd.Series({'None': len(train_y)-sum(occur_data)}))\n",
    "fig, ax = plt.subplots()\n",
    "occur_data.plot(kind = 'barh')\n",
    "ax.set_xscale('log')"
   ]
  },
  {
   "cell_type": "code",
   "execution_count": 7,
   "metadata": {},
   "outputs": [
    {
     "data": {
      "text/plain": [
       "<matplotlib.axes._subplots.AxesSubplot at 0x154013e6cf8>"
      ]
     },
     "execution_count": 7,
     "metadata": {},
     "output_type": "execute_result"
    },
    {
     "data": {
      "image/png": "[encoded data removed]",
      "text/plain": [
       "<matplotlib.figure.Figure at 0x154013e6860>"
      ]
     },
     "metadata": {},
     "output_type": "display_data"
    }
   ],
   "source": [
    "# plot comment length\n",
    "comment_len = train_x['comment_text'].apply(lambda x: len(x))\n",
    "comment_len.hist(bins= 50)"
   ]
  },
  {
   "cell_type": "markdown",
   "metadata": {},
   "source": [
    "## Feature extraction\n",
    "- tokenize\n",
    "- should case be preserved? \n",
    "- lemmatize/stemming\n",
    "- stopword removal\n",
    "- bag of words\n",
    "- tfidf "
   ]
  },
  {
   "cell_type": "code",
   "execution_count": 21,
   "metadata": {},
   "outputs": [],
   "source": [
    "'''\n",
    "tokenzing is not quite straightforward in casual language (might be used in more toxic comments)  - nltk has a few modules\n",
    "casual: TweetTokenizer\n",
    "'''\n",
    "from nltk.tokenize import TweetTokenizer\n",
    "from nltk.tokenize import word_tokenize\n",
    "\n",
    "\n",
    "tweettoken = TweetTokenizer(reduce_len= True) # reduces length of stretched out words: waaaaayyyy ->waaayyy\n",
    "\n",
    "tweet_split = train_x['comment_text'].apply(lambda x: tweettoken.tokenize(x.lower()))\n",
    "word_split = train_x['comment_text'].apply(lambda x: word_tokenize(x.lower()))"
   ]
  },
  {
   "cell_type": "code",
   "execution_count": 24,
   "metadata": {},
   "outputs": [],
   "source": [
    "# stopword and punctuation removal\n",
    "from nltk.corpus import stopwords\n",
    "import string\n",
    "stops = stopwords.words('english') + list(string.punctuation)\n",
    "\n",
    "tweet_split = tweet_split.apply(lambda row: [x for x in row if x not in stops])\n",
    "word_split = word_split.apply(lambda row: [x for x in row if x not in stops])\n",
    "## appears that TweetTokenizer results in a 'cleaner' dataset by avoiding more fillers"
   ]
  },
  {
   "cell_type": "code",
   "execution_count": 36,
   "metadata": {},
   "outputs": [
    {
     "data": {
      "text/plain": [
       "0     [nonsense, kiss, geek, said, true, i'll, accou...\n",
       "20    [hasn't, alitalia, removed, rom, alliance, due...\n",
       "26    [graceful, slick, ..., non, ungraceful, dick, ...\n",
       "30    [stupid, soon, saw, phrase, metal, stupid, beg...\n",
       "32    [ban, one, side, argument, bullshit, nazi, adm...\n",
       "Name: comment_text, dtype: object"
      ]
     },
     "execution_count": 36,
     "metadata": {},
     "output_type": "execute_result"
    }
   ],
   "source": [
    "subset.head()"
   ]
  },
  {
   "cell_type": "code",
   "execution_count": 38,
   "metadata": {
    "scrolled": true
   },
   "outputs": [],
   "source": [
    "toxic = train_full[train_full['toxic'] >0]"
   ]
  },
  {
   "cell_type": "code",
   "execution_count": 41,
   "metadata": {},
   "outputs": [],
   "source": [
    "# test different stemmers/ lemmatizers\n",
    "from nltk.stem import PorterStemmer\n",
    "from nltk.stem import LancasterStemmer\n",
    "from nltk.stem import SnowballStemmer\n",
    "from nltk.stem import WordNetLemmatizer\n",
    "\n",
    "subset = tweet_split.iloc[toxic.index]\n",
    "port = PorterStemmer()\n",
    "lan = LancasterStemmer()\n",
    "snowball = SnowballStemmer(\"english\")\n",
    "lemma= WordNetLemmatizer()\n",
    "subset_port = subset.apply(lambda row: [port.stem(x) for x in row])\n",
    "subset_lan = subset.apply(lambda row: [lan.stem(x) for x in row])\n",
    "subset_snowball= subset.apply(lambda row: [snowball.stem(x) for x in row])\n",
    "subset_lemma = subset.apply(lambda row: [lemma.lemmatize(x)for x in row])\n",
    "# lemma appears to preserve word forms best, but might be too mild to reduce the number of words in the bag of words\n",
    "# stemming: lancaster appers to have the most liberal reduction: Nazi -> Naz\n",
    "# port or snowball? "
   ]
  },
  {
   "cell_type": "code",
   "execution_count": 50,
   "metadata": {},
   "outputs": [
    {
     "name": "stdout",
     "output_type": "stream",
     "text": [
      "['nonsense', 'kiss', 'geek', 'said', 'true', \"i'll\", 'account', 'terminated']\n",
      "[\"hasn't\", 'alitalia', 'removed', 'rom', 'alliance', 'due', 'piss-poor', 'customer', 'service', 'sentiments', 'nummerous', 'flyertalkers']\n",
      "['graceful', 'slick', '...', 'non', 'ungraceful', 'dick', '86.131', '154.225']\n",
      "['stupid', 'soon', 'saw', 'phrase', 'metal', 'stupid', 'beginning', 'article', 'assumed', 'misread', 'confirmed', 'indeed', 'say', 'metal', 'stupid', 'assumed', 'vandalism', 'however', \"don't\", 'know', 'anything', 'chemistry', 'see', 'soviet', 'education', 'system', 'word', 'stupid', 'meaning', 'chemistry', 'would', 'way', 'knowing', 'refuting', 'could', 'someone', 'actually', 'amount', 'knowledge', 'subject', 'confirm', 'whether', 'vandalism', 'typo', 'what-have-you']\n",
      "['ban', 'one', 'side', 'argument', 'bullshit', 'nazi', 'admin', 'get', 'discussion', 'islamist', 'editors', 'feel']\n",
      "['gay', 'sound', 'like']\n",
      "['program', 'last', 'night', 'crime', 'museum', 'blackout', 'ripper', 'called', 'serial', 'killer', 'experts', 'police', 'catched', 'get', 'facts', 'right', 'retards']\n",
      "[\"didn't\", 'call', 'biased', 'backward', 'yank', 'retard', 'asked', 'act', 'like', 'biased', 'backward', 'yank', 'retard', 'difference', 'adding', 'comments', 'talk', 'page', 'best', 'way', 'sway', 'people', 'point', 'view', 'people', 'act', 'like', 'biased', 'backward', 'yank', 'retards', 'like', 'censor', 'comments', 'go', 'figure', '92.238', '252.159']\n",
      "['constructive', 'stupid', 'arkjedi', '10']\n",
      "['know', 'fuck', 'tried', 'civil', 'earlier', 'since', \"you're\", 'gonna', 'pay', 'courtesy', \"there's\", 'point', \"there's\", 'need', 'poke', 'fun', 'using', 'word', 'man', 'making', 'sarcastic', 'comments', 'using', 'references', 'know', \"you're\", 'looking', 'fight', \"i've\", 'worked', 'content', 'ended', 'keeping', 'sentences', \"don't\", 'sources', 'let', 'look', 'right']\n",
      "['thinks', 'copyright', 'violation', 'pity', 'sicko']\n",
      "['corrected', 'spelling', 'recognised', 'recognized', 'pluto', 'article', 'undid', 'revisions', 'article', 'spelling', 'incorrect', 'according', \"merriam-webster's\", 'dictionary', \"computer's\", 'standard', 'spell-checker', 'wikipedia', 'founded', 'americans', 'hosted', 'servers', 'america', 'pluto', 'discovered', 'american', 'named', 'approved', 'americans', 'retarded-ass', 'asperger', 'self', 'shut', 'go', 'cry', 'corner', 'country', 'sucks', 'ass', 'compared', 'america', 'leave', 'goddamn', 'piece', 'shit', 'british', 'spellings', 'belong', 'toilet', 'america', 'rightly', 'put']\n",
      "['wow', \"you're\", 'little', 'touchy', \"aren't\", 'also', 'seem', 'love', 'make', 'assumptions', 'makes', 'look', 'like', 'douche', 'know', \"don't\", 'account', 'must', 'feel', 'need', 'cry', 'admins', 'whenever', 'get', 'pointless', 'argument', 'looks', 'like', \"you're\", 'insecure', 'hypocrite', 'criticized', 'spelling', 'maggot', 'joke', \"didn't\", 'get', 'post', 'full', 'typos']\n",
      "['need', 'pussy', 'geek']\n",
      "['coincidence', 'noticed', 'every', 'wikibattle', 'enter', 'opposite', 'side', 'jewish', 'interests', 'coincidence', 'notice', 'put', 'anti-semitic', 'pov', 'material', 'commentary', 'hmmm', '...', \"don't\", 'stop', 'abusing', 'wikipedia', \"it's\", 'encyclopedia', 'home', 'bigoted', 'nonsense', \"can't\", 'handle', 'fact', 'wikipedia', 'legitimate', 'scholarly', 'works', '...', 'info', 'people', 'like', '...', 'get', 'blog', 'something', 'post', 'phsycobabble', 'californiadreamlings']\n"
     ]
    }
   ],
   "source": [
    "for x in subset[:15]:\n",
    "    print(x)"
   ]
  },
  {
   "cell_type": "code",
   "execution_count": 59,
   "metadata": {},
   "outputs": [
    {
     "name": "stdout",
     "output_type": "stream",
     "text": [
      "['nonsens', 'kiss', 'geek', 'said', 'true', \"i'll\", 'account', 'termin']\n",
      "[\"hasn't\", 'alitalia', 'remov', 'rom', 'allianc', 'due', 'piss-poor', 'custom', 'servic', 'sentiment', 'nummer', 'flyertalk']\n",
      "['grace', 'slick', '...', 'non', 'ungrac', 'dick', '86.131', '154.225']\n",
      "['stupid', 'soon', 'saw', 'phrase', 'metal', 'stupid', 'begin', 'articl', 'assum', 'misread', 'confirm', 'inde', 'say', 'metal', 'stupid', 'assum', 'vandal', 'howev', \"don't\", 'know', 'anyth', 'chemistri', 'see', 'soviet', 'educ', 'system', 'word', 'stupid', 'mean', 'chemistri', 'would', 'way', 'know', 'refut', 'could', 'someon', 'actual', 'amount', 'knowledg', 'subject', 'confirm', 'whether', 'vandal', 'typo', 'what-have-you']\n",
      "['ban', 'one', 'side', 'argument', 'bullshit', 'nazi', 'admin', 'get', 'discuss', 'islamist', 'editor', 'feel']\n",
      "['gay', 'sound', 'like']\n",
      "['program', 'last', 'night', 'crime', 'museum', 'blackout', 'ripper', 'call', 'serial', 'killer', 'expert', 'polic', 'catch', 'get', 'fact', 'right', 'retard']\n",
      "[\"didn't\", 'call', 'bias', 'backward', 'yank', 'retard', 'ask', 'act', 'like', 'bias', 'backward', 'yank', 'retard', 'differ', 'ad', 'comment', 'talk', 'page', 'best', 'way', 'sway', 'peopl', 'point', 'view', 'peopl', 'act', 'like', 'bias', 'backward', 'yank', 'retard', 'like', 'censor', 'comment', 'go', 'figur', '92.238', '252.159']\n",
      "['construct', 'stupid', 'arkjedi', '10']\n",
      "['know', 'fuck', 'tri', 'civil', 'earlier', 'sinc', \"you'r\", 'gonna', 'pay', 'courtesi', 'there', 'point', 'there', 'need', 'poke', 'fun', 'use', 'word', 'man', 'make', 'sarcast', 'comment', 'use', 'refer', 'know', \"you'r\", 'look', 'fight', \"i'v\", 'work', 'content', 'end', 'keep', 'sentenc', \"don't\", 'sourc', 'let', 'look', 'right']\n",
      "['think', 'copyright', 'violat', 'piti', 'sicko']\n",
      "['correct', 'spell', 'recognis', 'recogn', 'pluto', 'articl', 'undid', 'revis', 'articl', 'spell', 'incorrect', 'accord', 'merriam-webst', 'dictionari', 'comput', 'standard', 'spell-check', 'wikipedia', 'found', 'american', 'host', 'server', 'america', 'pluto', 'discov', 'american', 'name', 'approv', 'american', 'retarded-ass', 'asperg', 'self', 'shut', 'go', 'cri', 'corner', 'countri', 'suck', 'ass', 'compar', 'america', 'leav', 'goddamn', 'piec', 'shit', 'british', 'spell', 'belong', 'toilet', 'america', 'right', 'put']\n",
      "['wow', \"you'r\", 'littl', 'touchi', \"aren't\", 'also', 'seem', 'love', 'make', 'assumpt', 'make', 'look', 'like', 'douch', 'know', \"don't\", 'account', 'must', 'feel', 'need', 'cri', 'admin', 'whenev', 'get', 'pointless', 'argument', 'look', 'like', \"you'r\", 'insecur', 'hypocrit', 'critic', 'spell', 'maggot', 'joke', \"didn't\", 'get', 'post', 'full', 'typo']\n",
      "['need', 'pussi', 'geek']\n",
      "['coincid', 'notic', 'everi', 'wikibattl', 'enter', 'opposit', 'side', 'jewish', 'interest', 'coincid', 'notic', 'put', 'anti-semit', 'pov', 'materi', 'commentari', 'hmmm', '...', \"don't\", 'stop', 'abus', 'wikipedia', 'it', 'encyclopedia', 'home', 'bigot', 'nonsens', \"can't\", 'handl', 'fact', 'wikipedia', 'legitim', 'scholar', 'work', '...', 'info', 'peopl', 'like', '...', 'get', 'blog', 'someth', 'post', 'phsycobabbl', 'californiadreaml']\n"
     ]
    }
   ],
   "source": [
    "for x in subset_snowball[:15]:\n",
    "    print(x)"
   ]
  },
  {
   "cell_type": "code",
   "execution_count": null,
   "metadata": {
    "collapsed": true
   },
   "outputs": [],
   "source": [
    "## find a solution to handle unequal categories\n",
    "# Feature extraction\n",
    "## stopword removal\n",
    "## lemmatizing/ stemming?\n",
    "## bag-of-words + tfidf?\n",
    "# Machine learning for text classi\n",
    "## Naive bayes\n",
    "## SVM\n",
    "## Logistic regression\n",
    "## RNN + LSTM"
   ]
  }
 ],
 "metadata": {
  "kernelspec": {
   "display_name": "Python 3",
   "language": "python",
   "name": "python3"
  },
  "language_info": {
   "codemirror_mode": {
    "name": "ipython",
    "version": 3
   },
   "file_extension": ".py",
   "mimetype": "text/x-python",
   "name": "python",
   "nbconvert_exporter": "python",
   "pygments_lexer": "ipython3",
   "version": "3.6.0"
  }
 },
 "nbformat": 4,
 "nbformat_minor": 2
}
